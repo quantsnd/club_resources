{
 "cells": [
  {
   "cell_type": "markdown",
   "metadata": {},
   "source": [
    "# Intro to Python Part I\n",
    "\n",
    "\n",
    "What we're going to talk about:\n",
    "\n",
    "1. Arithmetic\n",
    "    1. Numbers\n",
    "    2. Using Python as a calculator\n",
    "    \n",
    "    \n",
    "2. Data Storage\n",
    "    1. Variables\n",
    "    2. Data types\n",
    "    3. Type conversion\n",
    "\n",
    "    \n",
    "3. Logical Operators\n",
    "    1. Inequalities\n",
    "    2. If/else statements\n",
    "\n",
    "\n",
    "4. Iteration\n",
    "    1. For loops\n",
    "    2. While loops\n",
    "\n",
    "\n",
    "5. Functions\n",
    "    1. Syntax for declaring a function\n",
    "    2. Calling a function\n",
    "    "
   ]
  },
  {
   "cell_type": "markdown",
   "metadata": {},
   "source": [
    "## 1. Arithmetic\n"
   ]
  },
  {
   "cell_type": "markdown",
   "metadata": {},
   "source": [
    "### Numbers"
   ]
  },
  {
   "cell_type": "markdown",
   "metadata": {},
   "source": [
    "```python\n",
    "# Use a hash to write a one line comment\n",
    "'''Use triple quotes to write multi-line comments, aka docstrings. \n",
    "   Commenting is an important tool to help with organizing your scripts,\n",
    "   and articulating your thought processes throughout your code.'''\n",
    "```"
   ]
  },
  {
   "cell_type": "code",
   "execution_count": 70,
   "metadata": {},
   "outputs": [
    {
     "data": {
      "text/plain": [
       "4"
      ]
     },
     "execution_count": 70,
     "metadata": {},
     "output_type": "execute_result"
    }
   ],
   "source": [
    "4 # integers"
   ]
  },
  {
   "cell_type": "code",
   "execution_count": 71,
   "metadata": {},
   "outputs": [
    {
     "data": {
      "text/plain": [
       "3.14159265"
      ]
     },
     "execution_count": 71,
     "metadata": {},
     "output_type": "execute_result"
    }
   ],
   "source": [
    "3.14159265 # floating point decimals"
   ]
  },
  {
   "cell_type": "code",
   "execution_count": 72,
   "metadata": {},
   "outputs": [
    {
     "data": {
      "text/plain": [
       "-15.23893"
      ]
     },
     "execution_count": 72,
     "metadata": {},
     "output_type": "execute_result"
    }
   ],
   "source": [
    "-12 # negative integers\n",
    "-15.23893 # negative floating point decimals"
   ]
  },
  {
   "cell_type": "code",
   "execution_count": 73,
   "metadata": {},
   "outputs": [
    {
     "data": {
      "text/plain": [
       "(-1+5j)"
      ]
     },
     "execution_count": 73,
     "metadata": {},
     "output_type": "execute_result"
    }
   ],
   "source": [
    "-1 + 5j # complex numbers"
   ]
  },
  {
   "cell_type": "markdown",
   "metadata": {},
   "source": [
    "### Using Python as a calculator"
   ]
  },
  {
   "cell_type": "code",
   "execution_count": 74,
   "metadata": {},
   "outputs": [
    {
     "data": {
      "text/plain": [
       "51"
      ]
     },
     "execution_count": 74,
     "metadata": {},
     "output_type": "execute_result"
    }
   ],
   "source": [
    "17 + 34 # addition"
   ]
  },
  {
   "cell_type": "code",
   "execution_count": 75,
   "metadata": {},
   "outputs": [
    {
     "data": {
      "text/plain": [
       "-47438"
      ]
     },
     "execution_count": 75,
     "metadata": {},
     "output_type": "execute_result"
    }
   ],
   "source": [
    "10000 - 57438 # subtraction"
   ]
  },
  {
   "cell_type": "code",
   "execution_count": 76,
   "metadata": {},
   "outputs": [
    {
     "data": {
      "text/plain": [
       "4598"
      ]
     },
     "execution_count": 76,
     "metadata": {},
     "output_type": "execute_result"
    }
   ],
   "source": [
    "121 * 38 # multiplication"
   ]
  },
  {
   "cell_type": "code",
   "execution_count": 77,
   "metadata": {},
   "outputs": [
    {
     "data": {
      "text/plain": [
       "0.285582041194168"
      ]
     },
     "execution_count": 77,
     "metadata": {},
     "output_type": "execute_result"
    }
   ],
   "source": [
    "1234 / 4321 # division (result is a floating point decimal)"
   ]
  },
  {
   "cell_type": "code",
   "execution_count": 78,
   "metadata": {},
   "outputs": [
    {
     "data": {
      "text/plain": [
       "3"
      ]
     },
     "execution_count": 78,
     "metadata": {},
     "output_type": "execute_result"
    }
   ],
   "source": [
    "15 // 4 # floor division (result is a whole number)"
   ]
  },
  {
   "cell_type": "code",
   "execution_count": 79,
   "metadata": {},
   "outputs": [
    {
     "data": {
      "text/plain": [
       "-4"
      ]
     },
     "execution_count": 79,
     "metadata": {},
     "output_type": "execute_result"
    }
   ],
   "source": [
    "-15 // 4 # floor division rounds down, be careful with negative numbers"
   ]
  },
  {
   "cell_type": "code",
   "execution_count": 80,
   "metadata": {},
   "outputs": [
    {
     "data": {
      "text/plain": [
       "1"
      ]
     },
     "execution_count": 80,
     "metadata": {},
     "output_type": "execute_result"
    }
   ],
   "source": [
    "13 % 3 # modulus operator (finds the remainder from division)"
   ]
  },
  {
   "cell_type": "code",
   "execution_count": 81,
   "metadata": {},
   "outputs": [
    {
     "data": {
      "text/plain": [
       "216"
      ]
     },
     "execution_count": 81,
     "metadata": {},
     "output_type": "execute_result"
    }
   ],
   "source": [
    "6 ** 3 # exponentiation (6 to the third power)"
   ]
  },
  {
   "cell_type": "markdown",
   "metadata": {},
   "source": [
    "## 2. Data Storage"
   ]
  },
  {
   "cell_type": "markdown",
   "metadata": {},
   "source": [
    "### Variables"
   ]
  },
  {
   "cell_type": "markdown",
   "metadata": {},
   "source": [
    "To set a variable, we create a name, then write an equals sign (`=`), then give it a value, like this:\n",
    "```python\n",
    "<name> = <value/object with value> \n",
    "```"
   ]
  },
  {
   "cell_type": "code",
   "execution_count": 82,
   "metadata": {},
   "outputs": [],
   "source": [
    "GOOG = 2727.63 # assign a value to a variable"
   ]
  },
  {
   "cell_type": "code",
   "execution_count": 83,
   "metadata": {},
   "outputs": [],
   "source": [
    "VZ = 55.72"
   ]
  },
  {
   "cell_type": "code",
   "execution_count": 84,
   "metadata": {},
   "outputs": [
    {
     "data": {
      "text/plain": [
       "2783.35"
      ]
     },
     "execution_count": 84,
     "metadata": {},
     "output_type": "execute_result"
    }
   ],
   "source": [
    "GOOG + VZ # can use operators on variables (+,-,*,/,etc.)"
   ]
  },
  {
   "cell_type": "code",
   "execution_count": 85,
   "metadata": {},
   "outputs": [],
   "source": [
    "VZ = VZ + 1 # it's often necessary to increase a variable by 1"
   ]
  },
  {
   "cell_type": "code",
   "execution_count": 86,
   "metadata": {},
   "outputs": [],
   "source": [
    "VZ += 1 # quicker way to increment"
   ]
  },
  {
   "cell_type": "code",
   "execution_count": 87,
   "metadata": {},
   "outputs": [
    {
     "data": {
      "text/plain": [
       "57.72"
      ]
     },
     "execution_count": 87,
     "metadata": {},
     "output_type": "execute_result"
    }
   ],
   "source": [
    "VZ # prints the current value stored in the variable"
   ]
  },
  {
   "cell_type": "markdown",
   "metadata": {},
   "source": [
    "### Data Types"
   ]
  },
  {
   "cell_type": "markdown",
   "metadata": {},
   "source": [
    "Among the data types in Python there are: `integer`, `float`, `string`, `list`, `set` and `dict`--they are called classes.\n",
    "\n",
    "Below we are also using a few simple functions: `type`, `print`, `len`."
   ]
  },
  {
   "cell_type": "markdown",
   "metadata": {},
   "source": [
    "#### Integer Type (whole number)"
   ]
  },
  {
   "cell_type": "code",
   "execution_count": 88,
   "metadata": {},
   "outputs": [],
   "source": [
    "days_in_Mar = 31\n",
    "days_in_Jun = 30"
   ]
  },
  {
   "cell_type": "code",
   "execution_count": 89,
   "metadata": {},
   "outputs": [
    {
     "data": {
      "text/plain": [
       "int"
      ]
     },
     "execution_count": 89,
     "metadata": {},
     "output_type": "execute_result"
    }
   ],
   "source": [
    "type(days_in_Jun)"
   ]
  },
  {
   "cell_type": "code",
   "execution_count": 90,
   "metadata": {},
   "outputs": [
    {
     "data": {
      "text/plain": [
       "int"
      ]
     },
     "execution_count": 90,
     "metadata": {},
     "output_type": "execute_result"
    }
   ],
   "source": [
    "Mar_Jun_days = days_in_Jun + days_in_Mar\n",
    "type(Mar_Jun_days) # addition, subtraction, and multiplication of integer types results in an integer type"
   ]
  },
  {
   "cell_type": "markdown",
   "metadata": {},
   "source": [
    "#### Float Type (decimals)"
   ]
  },
  {
   "cell_type": "code",
   "execution_count": 91,
   "metadata": {},
   "outputs": [
    {
     "data": {
      "text/plain": [
       "float"
      ]
     },
     "execution_count": 91,
     "metadata": {},
     "output_type": "execute_result"
    }
   ],
   "source": [
    "minimum_wage = 7.25\n",
    "IN_minimum_wage = 7.25\n",
    "type(minimum_wage)"
   ]
  },
  {
   "cell_type": "code",
   "execution_count": 92,
   "metadata": {},
   "outputs": [
    {
     "data": {
      "text/plain": [
       "float"
      ]
     },
     "execution_count": 92,
     "metadata": {},
     "output_type": "execute_result"
    }
   ],
   "source": [
    "wage_diff = minimum_wage - IN_minimum_wage\n",
    "type(wage_diff) # any arithmetic involving at least one float type results in a float type"
   ]
  },
  {
   "cell_type": "markdown",
   "metadata": {},
   "source": [
    "#### String Type (characters, words, phrases, etc.)"
   ]
  },
  {
   "cell_type": "code",
   "execution_count": 93,
   "metadata": {},
   "outputs": [
    {
     "data": {
      "text/plain": [
       "str"
      ]
     },
     "execution_count": 93,
     "metadata": {},
     "output_type": "execute_result"
    }
   ],
   "source": [
    "# a string literal is an object that holds a string of specific, explicit characters\n",
    "greeting = 'Hello World'\n",
    "greeting2 = \"Hello World\"\n",
    "'''String literals can be defined by single quotes or double quotes. \n",
    "   But remember, triple quotes are used for helpful multiline comments!'''\n",
    "type(greeting)"
   ]
  },
  {
   "cell_type": "code",
   "execution_count": 94,
   "metadata": {},
   "outputs": [
    {
     "data": {
      "text/plain": [
       "11"
      ]
     },
     "execution_count": 94,
     "metadata": {},
     "output_type": "execute_result"
    }
   ],
   "source": [
    "# use the len() function to find the number of characters (including white space) in a string\n",
    "len(greeting2)"
   ]
  },
  {
   "cell_type": "code",
   "execution_count": 95,
   "metadata": {},
   "outputs": [
    {
     "name": "stdout",
     "output_type": "stream",
     "text": [
      "H\n",
      "l\n",
      " \n",
      "W\n",
      "r\n",
      "d\n"
     ]
    }
   ],
   "source": [
    "'''Access a character of a string using the index 0 through (length-1).\n",
    "   Indexing is done using brackets, [ ]'''\n",
    "# use the print() function to display the object passed in (the argument)\n",
    "print(greeting[0])\n",
    "print(greeting[3])\n",
    "print(greeting[5])\n",
    "print(greeting[6])\n",
    "print(greeting[8])\n",
    "print(greeting[10])"
   ]
  },
  {
   "cell_type": "code",
   "execution_count": 96,
   "metadata": {},
   "outputs": [
    {
     "name": "stdout",
     "output_type": "stream",
     "text": [
      "Hello\n"
     ]
    }
   ],
   "source": [
    "# a slice is when a section of a string is extracted using indices separated by a ':'\n",
    "hi_computer = greeting[0:5]\n",
    "print(hi_computer)"
   ]
  },
  {
   "cell_type": "code",
   "execution_count": 97,
   "metadata": {},
   "outputs": [
    {
     "data": {
      "text/plain": [
       "'Notre Dame beat Purdue. \\nYes, we covered the spread for the first time this year.'"
      ]
     },
     "execution_count": 97,
     "metadata": {},
     "output_type": "execute_result"
    }
   ],
   "source": [
    "# we can create a multiline string the same way as a multiline literal\n",
    "irish = '''Notre Dame beat Purdue. \n",
    "Yes, we covered the spread for the first time this year.'''\n",
    "irish"
   ]
  },
  {
   "cell_type": "markdown",
   "metadata": {},
   "source": [
    "#### Lists (comma-separated items of any type contained in square braces)"
   ]
  },
  {
   "cell_type": "code",
   "execution_count": 98,
   "metadata": {},
   "outputs": [
    {
     "name": "stdout",
     "output_type": "stream",
     "text": [
      "<class 'list'>\n",
      "<class 'list'>\n"
     ]
    }
   ],
   "source": [
    "OneThroughFive = [1,2,3,4,5]\n",
    "home_animals = ['cat','dog','mouse']\n",
    "print(type(OneThroughFive)) # a list containing integers\n",
    "print(type(home_animals)) # a list containing strings"
   ]
  },
  {
   "cell_type": "code",
   "execution_count": 99,
   "metadata": {},
   "outputs": [
    {
     "name": "stdout",
     "output_type": "stream",
     "text": [
      "<class 'list'>\n"
     ]
    }
   ],
   "source": [
    "mixed_list = ['one','1',[1,1,1]]\n",
    "print(type(mixed_list)) # list - can contain multiple types, even other lists"
   ]
  },
  {
   "cell_type": "code",
   "execution_count": 100,
   "metadata": {},
   "outputs": [
    {
     "data": {
      "text/plain": [
       "[1, 1, 1]"
      ]
     },
     "execution_count": 100,
     "metadata": {},
     "output_type": "execute_result"
    }
   ],
   "source": [
    "# indexing a list is the same as indexing a string\n",
    "mixed_list[2]"
   ]
  },
  {
   "cell_type": "markdown",
   "metadata": {},
   "source": [
    "Some data types have operations associated with them using the data contained. These operations are called \"methods\" and are accessed with the following syntax:\n",
    "``` python\n",
    "<object_name>.<method name>(<args>)\n",
    "```\n",
    "\n",
    "Lists are a great example of where these methods can be useful. Two important ones are `append` and `remove`."
   ]
  },
  {
   "cell_type": "code",
   "execution_count": 101,
   "metadata": {},
   "outputs": [
    {
     "name": "stdout",
     "output_type": "stream",
     "text": [
      "['cat', 'dog', 'mouse', 'hippo']\n"
     ]
    }
   ],
   "source": [
    "home_animals.append('hippo')\n",
    "print(home_animals)"
   ]
  },
  {
   "cell_type": "code",
   "execution_count": 102,
   "metadata": {},
   "outputs": [
    {
     "name": "stdout",
     "output_type": "stream",
     "text": [
      "['cat', 'dog', 'mouse']\n"
     ]
    }
   ],
   "source": [
    "home_animals.remove('hippo')\n",
    "print(home_animals)"
   ]
  },
  {
   "cell_type": "markdown",
   "metadata": {},
   "source": [
    " *Caution!*\n",
    "\n",
    "Every object has a _type_, and although Python lets you operate on objects without knowing their type, it's important to keep types in mind because different types behave differently. \n",
    "\n",
    "For example, look how the output of `+` differs in different contexts:"
   ]
  },
  {
   "cell_type": "code",
   "execution_count": 103,
   "metadata": {},
   "outputs": [
    {
     "data": {
      "text/plain": [
       "33.18"
      ]
     },
     "execution_count": 103,
     "metadata": {},
     "output_type": "execute_result"
    }
   ],
   "source": [
    "close = 34.18\n",
    "after_hours = -1\n",
    "opening = close + after_hours\n",
    "opening"
   ]
  },
  {
   "cell_type": "code",
   "execution_count": 104,
   "metadata": {},
   "outputs": [
    {
     "data": {
      "text/plain": [
       "'John submitted the puzzle answer first'"
      ]
     },
     "execution_count": 104,
     "metadata": {},
     "output_type": "execute_result"
    }
   ],
   "source": [
    "who = 'John'\n",
    "what = ' submitted the puzzle answer first'\n",
    "event = who + what\n",
    "event"
   ]
  },
  {
   "cell_type": "markdown",
   "metadata": {},
   "source": [
    "#### Dictionaries (key:value pairs)\n",
    "\n",
    "Dictionaries are one of the most powerful tools in base python. We'll definitely be seeing these later. For now, it's important to know they're used to quickly find data called a `value` associated with a label, which we call a `key`."
   ]
  },
  {
   "cell_type": "code",
   "execution_count": 105,
   "metadata": {},
   "outputs": [
    {
     "data": {
      "text/plain": [
       "dict"
      ]
     },
     "execution_count": 105,
     "metadata": {},
     "output_type": "execute_result"
    }
   ],
   "source": [
    "portfolio_a = {'stockA':100,'stockB':230}\n",
    "type(portfolio_a)\n",
    "# keys are separated from their values with ':' meanwhile key-value pairs are separated with ','"
   ]
  },
  {
   "cell_type": "code",
   "execution_count": 106,
   "metadata": {},
   "outputs": [
    {
     "data": {
      "text/plain": [
       "230"
      ]
     },
     "execution_count": 106,
     "metadata": {},
     "output_type": "execute_result"
    }
   ],
   "source": [
    "portfolio_a['stockB'] # you can print/access a value by providing the key "
   ]
  },
  {
   "cell_type": "code",
   "execution_count": 107,
   "metadata": {},
   "outputs": [
    {
     "name": "stdout",
     "output_type": "stream",
     "text": [
      "{'stockA': 100, 'stockB': 230, 'stockC': 175}\n"
     ]
    }
   ],
   "source": [
    "portfolio_a['stockC'] = 175 # to add an item\n",
    "print(portfolio_a)"
   ]
  },
  {
   "attachments": {
    "image.png": {
     "image/png": "[encoded data removed]"
    }
   },
   "cell_type": "markdown",
   "metadata": {},
   "source": [
    "![image.png](attachment:image.png)"
   ]
  },
  {
   "cell_type": "markdown",
   "metadata": {},
   "source": [
    "### Type Conversion"
   ]
  },
  {
   "cell_type": "markdown",
   "metadata": {},
   "source": [
    "Explicit type conversion is also known as 'type casting', just look at how each function works."
   ]
  },
  {
   "cell_type": "code",
   "execution_count": 108,
   "metadata": {},
   "outputs": [
    {
     "name": "stdout",
     "output_type": "stream",
     "text": [
      "<class 'int'>\n"
     ]
    },
    {
     "data": {
      "text/plain": [
       "10.0"
      ]
     },
     "execution_count": 108,
     "metadata": {},
     "output_type": "execute_result"
    }
   ],
   "source": [
    "# it's easy to convert an integer to a float and visa versa\n",
    "print(type(10))\n",
    "float(10) # the float() function converts an integer to a float"
   ]
  },
  {
   "cell_type": "code",
   "execution_count": 109,
   "metadata": {},
   "outputs": [
    {
     "name": "stdout",
     "output_type": "stream",
     "text": [
      "<class 'float'>\n"
     ]
    },
    {
     "data": {
      "text/plain": [
       "9"
      ]
     },
     "execution_count": 109,
     "metadata": {},
     "output_type": "execute_result"
    }
   ],
   "source": [
    "print(type(9.75)) # the int() function converts a float to an integer\n",
    "int(9.75) # this will always truncate the value (make it closer to zero)"
   ]
  },
  {
   "cell_type": "code",
   "execution_count": 110,
   "metadata": {},
   "outputs": [
    {
     "data": {
      "text/plain": [
       "'100'"
      ]
     },
     "execution_count": 110,
     "metadata": {},
     "output_type": "execute_result"
    }
   ],
   "source": [
    "str(100) # str() function converts the argument to a string"
   ]
  },
  {
   "cell_type": "code",
   "execution_count": 111,
   "metadata": {},
   "outputs": [
    {
     "data": {
      "text/plain": [
       "['h', 'i', ' ', 't', 'h', 'e', 'r', 'e']"
      ]
     },
     "execution_count": 111,
     "metadata": {},
     "output_type": "execute_result"
    }
   ],
   "source": [
    "list('hi there') # converting a string into a list of string literals "
   ]
  },
  {
   "cell_type": "code",
   "execution_count": 112,
   "metadata": {},
   "outputs": [
    {
     "data": {
      "text/plain": [
       "{4: 16, 5: 25}"
      ]
     },
     "execution_count": 112,
     "metadata": {},
     "output_type": "execute_result"
    }
   ],
   "source": [
    "dict([[4, 16], [5, 25]]) # converting a list of two lists into a dictionary"
   ]
  },
  {
   "cell_type": "markdown",
   "metadata": {},
   "source": [
    "Implicit type conversion, these conversions can happen unintentionally - be careful!"
   ]
  },
  {
   "cell_type": "code",
   "execution_count": 113,
   "metadata": {},
   "outputs": [
    {
     "name": "stdout",
     "output_type": "stream",
     "text": [
      "Value of z: 124.23\n",
      "Data type of z: <class 'float'>\n"
     ]
    }
   ],
   "source": [
    "x = 123\n",
    "y = 1.23\n",
    "\n",
    "z = x + y\n",
    "\n",
    "print(\"Value of z:\", z)\n",
    "print(\"Data type of z:\", type(z))"
   ]
  },
  {
   "cell_type": "code",
   "execution_count": 114,
   "metadata": {},
   "outputs": [
    {
     "name": "stdout",
     "output_type": "stream",
     "text": [
      "Value of c: 5.0\n",
      "Data type of c: <class 'float'>\n"
     ]
    }
   ],
   "source": [
    "a = 3\n",
    "b = 4\n",
    "\n",
    "c_squared = (a**2 + b**2)\n",
    "\n",
    "c = c_squared**(1/2)\n",
    "\n",
    "print(\"Value of c:\", c)\n",
    "print(\"Data type of c:\", type(c))"
   ]
  },
  {
   "cell_type": "markdown",
   "metadata": {},
   "source": [
    "## 3. Logical Operators"
   ]
  },
  {
   "cell_type": "markdown",
   "metadata": {},
   "source": [
    "### Inequalities\n",
    "Inequality statements return either 'True' or 'False', these values are called 'booleans'."
   ]
  },
  {
   "cell_type": "code",
   "execution_count": 115,
   "metadata": {},
   "outputs": [],
   "source": [
    "#3 > 2 # tests 'greater than'\n",
    "#5 < 19 # tests 'less than'\n",
    "#10 <= 10 # tests 'less than or equal to'\n",
    "#1024 >= 1926 # tests 'greater than or equal to'\n",
    "#18 == 18 # tests equality\n",
    "#18 != 18 # tests inequality"
   ]
  },
  {
   "cell_type": "markdown",
   "metadata": {},
   "source": [
    "### If/else if/else Statements"
   ]
  },
  {
   "cell_type": "code",
   "execution_count": 116,
   "metadata": {},
   "outputs": [
    {
     "name": "stdout",
     "output_type": "stream",
     "text": [
      "1\n"
     ]
    }
   ],
   "source": [
    "if 3>2: # logical operator if. performs an operation if a condition is met.\n",
    "    print(1)"
   ]
  },
  {
   "cell_type": "code",
   "execution_count": 117,
   "metadata": {},
   "outputs": [
    {
     "name": "stdout",
     "output_type": "stream",
     "text": [
      "2\n"
     ]
    }
   ],
   "source": [
    "x = 3 \n",
    "if x > 10:\n",
    "    print(0)\n",
    "elif x < 2:\n",
    "    print(1)\n",
    "else:\n",
    "    print(2)"
   ]
  },
  {
   "attachments": {
    "image.png": {
     "image/png": "[encoded data removed]"
    }
   },
   "cell_type": "markdown",
   "metadata": {},
   "source": [
    "![image.png](attachment:image.png)"
   ]
  },
  {
   "cell_type": "markdown",
   "metadata": {},
   "source": [
    "## 4. Iteration"
   ]
  },
  {
   "cell_type": "markdown",
   "metadata": {},
   "source": [
    "### For Loops\n",
    "For loops are used for when we want to execute some lines of code repeatedly - where the number of repititions is denoted when the for loop is declared. "
   ]
  },
  {
   "cell_type": "code",
   "execution_count": 118,
   "metadata": {},
   "outputs": [
    {
     "name": "stdout",
     "output_type": "stream",
     "text": [
      "0\n",
      "1\n",
      "2\n",
      "3\n",
      "4\n",
      "5\n",
      "6\n",
      "7\n",
      "8\n",
      "9\n"
     ]
    }
   ],
   "source": [
    "'''The range() function often comes in handy with for loops.\n",
    "   range(10) is the numbers 0 up to and including 9 (notice the similarity to indexing)'''\n",
    "for i in range(10):\n",
    "    print(i)"
   ]
  },
  {
   "cell_type": "code",
   "execution_count": 119,
   "metadata": {},
   "outputs": [
    {
     "name": "stdout",
     "output_type": "stream",
     "text": [
      "[0, 1, 2, 3, 4, 5, 6, 7, 8, 9, 10, 11, 12, 13, 14, 15]\n"
     ]
    }
   ],
   "source": [
    "zero_to_fifteen = [] \n",
    "for number in range(16): # can append the contents of a list one-by-one\n",
    "    zero_to_fifteen.append(number)\n",
    "print(zero_to_fifteen)"
   ]
  },
  {
   "cell_type": "code",
   "execution_count": 120,
   "metadata": {},
   "outputs": [
    {
     "name": "stdout",
     "output_type": "stream",
     "text": [
      "[0, 1, 2, 3, 4, 5, 6, 7, 8, 9, 10]\n"
     ]
    }
   ],
   "source": [
    "# list comprehension = the practice of initializing a list with a for loop\n",
    "zero_to_ten = [i for i in range(11)] \n",
    "print(zero_to_ten)"
   ]
  },
  {
   "cell_type": "code",
   "execution_count": 121,
   "metadata": {},
   "outputs": [
    {
     "name": "stdout",
     "output_type": "stream",
     "text": [
      "{'stockA': 100, 'stockB': 230, 'stockC': 175}\n",
      "stockA 100\n",
      "stockB 230\n",
      "stockC 175\n"
     ]
    }
   ],
   "source": [
    "# it's often useful to loop through a dictionary's keys\n",
    "print(portfolio_a)\n",
    "for key in portfolio_a:\n",
    "    print(key, portfolio_a[key])"
   ]
  },
  {
   "cell_type": "markdown",
   "metadata": {},
   "source": [
    "### While Loops\n",
    "\n",
    "With while loops, the body of code is executed as long as (while) a condition is met.\n"
   ]
  },
  {
   "cell_type": "code",
   "execution_count": 122,
   "metadata": {},
   "outputs": [
    {
     "name": "stdout",
     "output_type": "stream",
     "text": [
      "0\n",
      "1\n",
      "2\n",
      "3\n",
      "4\n",
      "5\n",
      "6\n",
      "7\n",
      "8\n",
      "9\n"
     ]
    }
   ],
   "source": [
    "x = 0\n",
    "while(x < 10): \n",
    "    print(x)\n",
    "    x += 1"
   ]
  },
  {
   "attachments": {
    "image.png": {
     "image/png": "[encoded data removed]"
    }
   },
   "cell_type": "markdown",
   "metadata": {},
   "source": [
    "![image.png](attachment:image.png)"
   ]
  },
  {
   "cell_type": "markdown",
   "metadata": {},
   "source": [
    "## 5. Functions"
   ]
  },
  {
   "cell_type": "markdown",
   "metadata": {},
   "source": [
    "A function declaration has 5 parts:\n",
    "1. The keyword `def`\n",
    "2. A name\n",
    "3. 0 or more arguments in a comma-separated list (surrounded by parentheses)\n",
    "4. A colon (`:`)\n",
    "5. A body\n",
    "\n",
    "We put them together like this:\n",
    "```python\n",
    "def <name>(<args>):\n",
    "    <body>\n",
    "```"
   ]
  },
  {
   "cell_type": "code",
   "execution_count": 123,
   "metadata": {},
   "outputs": [],
   "source": [
    "def double_arg(x): # this function takes an argument, x, that should be compatible with the arithmetic in the body\n",
    "    doubled = x*2\n",
    "    return doubled # a return statement is used when we need the function to give something back"
   ]
  },
  {
   "cell_type": "code",
   "execution_count": 124,
   "metadata": {},
   "outputs": [],
   "source": [
    "def double_arg_simple(x):\n",
    "    return x*2 # return statements can have multiple objects, arithmetic, type casting, and much more"
   ]
  },
  {
   "cell_type": "code",
   "execution_count": 125,
   "metadata": {},
   "outputs": [
    {
     "data": {
      "text/plain": [
       "8"
      ]
     },
     "execution_count": 125,
     "metadata": {},
     "output_type": "execute_result"
    }
   ],
   "source": [
    "double_arg(4)"
   ]
  },
  {
   "cell_type": "code",
   "execution_count": 126,
   "metadata": {},
   "outputs": [
    {
     "data": {
      "text/plain": [
       "8"
      ]
     },
     "execution_count": 126,
     "metadata": {},
     "output_type": "execute_result"
    }
   ],
   "source": [
    "double_arg_simple(4)"
   ]
  },
  {
   "cell_type": "markdown",
   "metadata": {},
   "source": [
    "### Practice Problem 3.\n",
    "\n",
    "A list contains the following stock prices [12.32,31.88,17.51,45.04,22.60], for AAPL, GOOG, AMZN, MSFT, NFLX, repectively.\n",
    "\n",
    "1. Do the following: \n",
    "    1. Print out the max price of this list, along with the ticker symbol for the stock with that highest share price.\n",
    "    2. Print out the min price of this list, along with the ticker symbol for the stock with that lowest share price.\n",
    "(hint) create a dictionary\n",
    "2. Now suppose you have 350 dollars, and can either buy or sell each stock. You want to sell a stock if the price is at least 20, and buy it otherwise. Do the following:\n",
    "    1. Find the remaining balance after considering each stock.\n",
    "    2. Return a portfolio that provides which stocks have been bought and which were sold in the market."
   ]
  },
  {
   "cell_type": "markdown",
   "metadata": {},
   "source": [
    "### <font color=red>Answer Key:</font>"
   ]
  },
  {
   "cell_type": "code",
   "execution_count": 127,
   "metadata": {},
   "outputs": [],
   "source": [
    "# function for part 1\n",
    "def max_min_finder(market, init_ticker = 'AAPL'):\n",
    "    '''We will need to initialize our max/min prices and ticker symbols to any elements in our market.\n",
    "       This is the safest practice to ensure our final answers are actually elements of the problem's data.\n",
    "       By default, this function will initialize all to AAPL - then the function will update this if applicable,\n",
    "       during each iteration.'''\n",
    "    \n",
    "    return"
   ]
  },
  {
   "cell_type": "code",
   "execution_count": 128,
   "metadata": {},
   "outputs": [
    {
     "name": "stdout",
     "output_type": "stream",
     "text": [
      "the highest priced stock is:  MSFT 45.04\n",
      "the lowest priced stock is:  AAPL 12.32\n"
     ]
    }
   ],
   "source": [
    "# implementing part 1\n",
    "market_tickers = ['AAPL', 'GOOG', 'AMZN', 'MSFT', 'NFLX']\n",
    "market_prices = [12.32,31.88,17.51,45.04,22.60]\n",
    "# first we'll make a dictionary named 'market' from the information presented in this problem\n",
    "market = dict(zip(market_tickers, market_prices))\n",
    "max_min_finder(market)"
   ]
  },
  {
   "cell_type": "code",
   "execution_count": 129,
   "metadata": {},
   "outputs": [],
   "source": [
    "def my_first_backtest(market, bankroll):\n",
    "    portfolio = {}\n",
    "    \n",
    "    \n",
    "    return portfolio, bankroll"
   ]
  },
  {
   "cell_type": "code",
   "execution_count": 130,
   "metadata": {},
   "outputs": [
    {
     "name": "stdout",
     "output_type": "stream",
     "text": [
      "this is a basic backtest!  \n",
      " {'AAPL': 'buy', 'GOOG': 'sell', 'AMZN': 'buy', 'MSFT': 'sell', 'NFLX': 'sell'} 419.69000000000005\n",
      "this strategy yields a 19.911428571428587 % rate of return in this case\n"
     ]
    }
   ],
   "source": [
    "# implementing part 2 - we'll use the same market dict and a bankroll of $350\n",
    "portfolio, balance = my_first_backtest(market, 350.0)\n"
   ]
  },
  {
   "cell_type": "code",
   "execution_count": null,
   "metadata": {},
   "outputs": [],
   "source": []
  }
 ],
 "metadata": {
  "kernelspec": {
   "display_name": "Python 3",
   "language": "python",
   "name": "python3"
  },
  "language_info": {
   "codemirror_mode": {
    "name": "ipython",
    "version": 3
   },
   "file_extension": ".py",
   "mimetype": "text/x-python",
   "name": "python",
   "nbconvert_exporter": "python",
   "pygments_lexer": "ipython3",
   "version": "3.7.6"
  }
 },
 "nbformat": 4,
 "nbformat_minor": 4
}
